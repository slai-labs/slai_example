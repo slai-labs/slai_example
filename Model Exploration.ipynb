{
 "cells": [
  {
   "cell_type": "code",
   "execution_count": 1,
   "id": "b108e10e",
   "metadata": {},
   "outputs": [],
   "source": [
    "import slai\n",
    "import os\n",
    "import pandas as pd"
   ]
  },
  {
   "cell_type": "code",
   "execution_count": 2,
   "id": "077f95bf",
   "metadata": {},
   "outputs": [
    {
     "data": {
      "text/plain": [
       "<slai.login.Login at 0x10fb97f70>"
      ]
     },
     "execution_count": 2,
     "metadata": {},
     "output_type": "execute_result"
    }
   ],
   "source": [
    "slai.login(\n",
    "    client_id=os.environ['SLAI_CLIENT_ID'],\n",
    "    client_secret=os.environ['SLAI_CLIENT_SECRET'])"
   ]
  },
  {
   "cell_type": "code",
   "execution_count": 3,
   "id": "41d210db",
   "metadata": {},
   "outputs": [],
   "source": [
    "model = slai.model(\"rissem@gmail.com/getting-started-ca-housing/initial\")"
   ]
  },
  {
   "cell_type": "code",
   "execution_count": 4,
   "id": "4825d8e0",
   "metadata": {},
   "outputs": [
    {
     "data": {
      "text/plain": [
       "{'id': '61fd6593e3ca2a00094433bd',\n",
       " 'model_version_id': '61fcba44e3ca2a00094433a8',\n",
       " 'model_id': '61fcba44e3ca2a00094433a7',\n",
       " 'model_artifact_id': '61fcbbcae3ca2a0008104a93',\n",
       " 'created': '2022-02-04T17:42:43.844567Z',\n",
       " 'updated': '2022-02-04T17:42:54.590463Z',\n",
       " 'version': 1643995627905676,\n",
       " 'status': 'RUNNING',\n",
       " 'deployment_error': None,\n",
       " 'input_schema': {'x1': {'type': 'dataframe',\n",
       "   'max_cols': None,\n",
       "   'max_rows': None}},\n",
       " 'output_schema': {'pred': {'type': 'numpy', 'dtype': 'float', 'shape': None}}}"
      ]
     },
     "execution_count": 4,
     "metadata": {},
     "output_type": "execute_result"
    }
   ],
   "source": [
    "model.info()"
   ]
  },
  {
   "cell_type": "code",
   "execution_count": 7,
   "id": "069f92ba",
   "metadata": {},
   "outputs": [],
   "source": [
    "data_frame = pd.DataFrame({\n",
    "  \"latitude\": [32.7157],\n",
    "  \"longitude\": [-117.1611],\n",
    "  \"housing_median_age\": [46],\n",
    "  \"total_rooms\": [6000],\n",
    "  \"total_bedrooms\": [1000],\n",
    "  \"population\": [5000],\n",
    "  \"households\": [3000],\n",
    "  \"median_income\": [9], # ($90,000)\n",
    "})"
   ]
  },
  {
   "cell_type": "code",
   "execution_count": 9,
   "id": "a3a7d33b",
   "metadata": {},
   "outputs": [],
   "source": [
    "result = model(x1=data_frame)"
   ]
  },
  {
   "cell_type": "code",
   "execution_count": 10,
   "id": "4a495dcb",
   "metadata": {},
   "outputs": [
    {
     "data": {
      "text/plain": [
       "{'pred': array([433478.14087503])}"
      ]
     },
     "execution_count": 10,
     "metadata": {},
     "output_type": "execute_result"
    }
   ],
   "source": [
    "result"
   ]
  },
  {
   "cell_type": "code",
   "execution_count": 11,
   "id": "e133b1e1",
   "metadata": {},
   "outputs": [
    {
     "data": {
      "text/plain": [
       "433478.14087502984"
      ]
     },
     "execution_count": 11,
     "metadata": {},
     "output_type": "execute_result"
    }
   ],
   "source": [
    "result['pred'][0]"
   ]
  },
  {
   "cell_type": "code",
   "execution_count": null,
   "id": "0da951a7",
   "metadata": {},
   "outputs": [],
   "source": []
  }
 ],
 "metadata": {
  "kernelspec": {
   "display_name": "Slai Example Virtualenv",
   "language": "python",
   "name": "slai_example_venv"
  },
  "language_info": {
   "codemirror_mode": {
    "name": "ipython",
    "version": 3
   },
   "file_extension": ".py",
   "mimetype": "text/x-python",
   "name": "python",
   "nbconvert_exporter": "python",
   "pygments_lexer": "ipython3",
   "version": "3.9.10"
  }
 },
 "nbformat": 4,
 "nbformat_minor": 5
}
